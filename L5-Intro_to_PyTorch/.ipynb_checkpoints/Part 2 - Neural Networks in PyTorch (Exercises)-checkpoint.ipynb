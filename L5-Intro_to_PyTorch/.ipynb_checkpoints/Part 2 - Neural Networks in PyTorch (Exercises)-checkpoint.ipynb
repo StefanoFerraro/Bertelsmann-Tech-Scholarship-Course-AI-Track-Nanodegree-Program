{
 "cells": [
  {
   "cell_type": "markdown",
   "metadata": {},
   "source": [
    "# Neural networks with PyTorch\n",
    "\n",
    "Deep learning networks tend to be massive with dozens or hundreds of layers, that's where the term \"deep\" comes from. You can build one of these deep networks using only weight matrices as we did in the previous notebook, but in general it's very cumbersome and difficult to implement. PyTorch has a nice module `nn` that provides a nice way to efficiently build large neural networks."
   ]
  },
  {
   "cell_type": "code",
   "execution_count": 2,
   "metadata": {},
   "outputs": [],
   "source": [
    "# Import necessary packages\n",
    "\n",
    "%matplotlib inline\n",
    "%config InlineBackend.figure_format = 'retina'\n",
    "\n",
    "import numpy as np\n",
    "import torch\n",
    "\n",
    "import helper\n",
    "\n",
    "import matplotlib.pyplot as plt"
   ]
  },
  {
   "cell_type": "markdown",
   "metadata": {},
   "source": [
    "\n",
    "Now we're going to build a larger network that can solve a (formerly) difficult problem, identifying text in an image. Here we'll use the MNIST dataset which consists of greyscale handwritten digits. Each image is 28x28 pixels, you can see a sample below\n",
    "\n",
    "<img src='assets/mnist.png'>\n",
    "\n",
    "Our goal is to build a neural network that can take one of these images and predict the digit in the image.\n",
    "\n",
    "First up, we need to get our dataset. This is provided through the `torchvision` package. The code below will download the MNIST dataset, then create training and test datasets for us. Don't worry too much about the details here, you'll learn more about this later."
   ]
  },
  {
   "cell_type": "code",
   "execution_count": 4,
   "metadata": {},
   "outputs": [
    {
     "name": "stderr",
     "output_type": "stream",
     "text": [
      "\r",
      "0it [00:00, ?it/s]"
     ]
    },
    {
     "name": "stdout",
     "output_type": "stream",
     "text": [
      "Downloading http://yann.lecun.com/exdb/mnist/train-images-idx3-ubyte.gz to /Users/ferrarostefano/.pytorch/MNIST_data/MNIST/raw/train-images-idx3-ubyte.gz\n"
     ]
    },
    {
     "name": "stderr",
     "output_type": "stream",
     "text": [
      "100%|█████████▉| 9912320/9912422 [06:55<00:00, 16047.11it/s]"
     ]
    },
    {
     "name": "stdout",
     "output_type": "stream",
     "text": [
      "Extracting /Users/ferrarostefano/.pytorch/MNIST_data/MNIST/raw/train-images-idx3-ubyte.gz to /Users/ferrarostefano/.pytorch/MNIST_data/MNIST/raw\n"
     ]
    },
    {
     "name": "stderr",
     "output_type": "stream",
     "text": [
      "\n",
      "0it [00:00, ?it/s]\u001b[A"
     ]
    },
    {
     "name": "stdout",
     "output_type": "stream",
     "text": [
      "Downloading http://yann.lecun.com/exdb/mnist/train-labels-idx1-ubyte.gz to /Users/ferrarostefano/.pytorch/MNIST_data/MNIST/raw/train-labels-idx1-ubyte.gz\n"
     ]
    },
    {
     "name": "stderr",
     "output_type": "stream",
     "text": [
      "\n",
      "  0%|          | 0/28881 [00:01<?, ?it/s]\u001b[A\n",
      " 57%|█████▋    | 16384/28881 [00:01<00:00, 56980.90it/s]\u001b[A\n",
      "32768it [00:01, 52301.51it/s]                           \u001b[A\n",
      "0it [00:00, ?it/s]\u001b[A"
     ]
    },
    {
     "name": "stdout",
     "output_type": "stream",
     "text": [
      "Extracting /Users/ferrarostefano/.pytorch/MNIST_data/MNIST/raw/train-labels-idx1-ubyte.gz to /Users/ferrarostefano/.pytorch/MNIST_data/MNIST/raw\n",
      "Downloading http://yann.lecun.com/exdb/mnist/t10k-images-idx3-ubyte.gz to /Users/ferrarostefano/.pytorch/MNIST_data/MNIST/raw/t10k-images-idx3-ubyte.gz\n"
     ]
    },
    {
     "name": "stderr",
     "output_type": "stream",
     "text": [
      "\n",
      "  0%|          | 0/1648877 [00:01<?, ?it/s]\u001b[A\n",
      "  0%|          | 8192/1648877 [00:01<01:56, 14115.59it/s]\u001b[A\n",
      "  1%|▏         | 24576/1648877 [00:02<01:39, 16246.19it/s]\u001b[A\n",
      "  2%|▏         | 32768/1648877 [00:03<02:02, 13192.74it/s]\u001b[A\n",
      "  3%|▎         | 49152/1648877 [00:03<01:41, 15737.99it/s]\u001b[A\n",
      "  3%|▎         | 57344/1648877 [00:04<02:12, 12035.86it/s]\u001b[A\n",
      "  4%|▍         | 65536/1648877 [00:05<01:53, 13953.26it/s]\u001b[A\n",
      "  4%|▍         | 73728/1648877 [00:05<01:37, 16188.18it/s]\u001b[A\n",
      "  5%|▍         | 81920/1648877 [00:05<01:28, 17748.81it/s]\u001b[A\n",
      "  5%|▌         | 90112/1648877 [00:06<01:10, 22084.78it/s]\u001b[A\n",
      "  6%|▌         | 98304/1648877 [00:06<01:05, 23849.44it/s]\u001b[A\n",
      "  6%|▋         | 106496/1648877 [00:06<00:55, 27770.36it/s]\u001b[A\n",
      "  7%|▋         | 114688/1648877 [00:06<00:52, 28981.37it/s]\u001b[A\n",
      "  7%|▋         | 122880/1648877 [00:06<00:46, 33012.40it/s]\u001b[A\n",
      "  8%|▊         | 131072/1648877 [00:07<00:43, 35165.72it/s]\u001b[A\n",
      "  8%|▊         | 139264/1648877 [00:07<00:41, 36788.26it/s]\u001b[A\n",
      "  9%|▉         | 147456/1648877 [00:07<00:57, 26222.15it/s]\u001b[A\n",
      "  9%|▉         | 155648/1648877 [00:08<00:52, 28312.35it/s]\u001b[A\n",
      " 10%|▉         | 163840/1648877 [00:08<00:54, 27452.26it/s]\u001b[A\n",
      " 11%|█         | 180224/1648877 [00:09<00:55, 26478.42it/s]\u001b[A\n",
      " 12%|█▏        | 196608/1648877 [00:09<00:51, 28258.37it/s]\u001b[A\n",
      " 12%|█▏        | 204800/1648877 [00:10<00:59, 24321.89it/s]\u001b[A\n",
      " 13%|█▎        | 212992/1648877 [00:10<01:20, 17941.88it/s]\u001b[A\n",
      "9920512it [07:10, 16047.11it/s]                             [A\n",
      " 14%|█▍        | 229376/1648877 [00:12<01:32, 15359.49it/s]\u001b[A\n",
      " 14%|█▍        | 237568/1648877 [00:12<01:46, 13223.49it/s]\u001b[A\n",
      " 15%|█▍        | 245760/1648877 [00:14<03:01, 7747.12it/s] \u001b[A\n",
      " 15%|█▌        | 253952/1648877 [00:15<02:35, 8985.45it/s]\u001b[A\n",
      " 16%|█▌        | 262144/1648877 [00:16<02:16, 10123.63it/s]\u001b[A\n",
      " 16%|█▋        | 270336/1648877 [00:16<01:45, 13021.25it/s]\u001b[A\n",
      " 17%|█▋        | 278528/1648877 [00:16<01:21, 16726.41it/s]\u001b[A\n",
      " 17%|█▋        | 286720/1648877 [00:16<01:07, 20244.20it/s]\u001b[A\n",
      " 18%|█▊        | 294912/1648877 [00:16<01:00, 22394.71it/s]\u001b[A\n",
      " 18%|█▊        | 303104/1648877 [00:17<00:51, 26146.58it/s]\u001b[A\n",
      " 19%|█▉        | 311296/1648877 [00:17<00:46, 28799.73it/s]\u001b[A\n",
      " 19%|█▉        | 319488/1648877 [00:17<00:49, 26992.34it/s]\u001b[A\n",
      " 20%|██        | 335872/1648877 [00:18<00:41, 31448.18it/s]\u001b[A\n",
      " 21%|██        | 344064/1648877 [00:18<00:40, 32167.31it/s]\u001b[A\n",
      " 21%|██▏       | 352256/1648877 [00:18<00:38, 33773.01it/s]\u001b[A\n",
      " 22%|██▏       | 360448/1648877 [00:18<00:34, 37596.55it/s]\u001b[A\n",
      " 22%|██▏       | 368640/1648877 [00:18<00:32, 38870.79it/s]\u001b[A\n",
      " 23%|██▎       | 385024/1648877 [00:19<00:32, 38371.71it/s]\u001b[A\n",
      " 24%|██▍       | 401408/1648877 [00:19<00:30, 40331.67it/s]\u001b[A\n",
      " 25%|██▍       | 409600/1648877 [00:19<00:35, 35354.93it/s]\u001b[A\n",
      " 25%|██▌       | 417792/1648877 [00:20<00:32, 37666.14it/s]\u001b[A\n",
      " 26%|██▌       | 425984/1648877 [00:20<00:42, 29053.32it/s]\u001b[A\n",
      " 27%|██▋       | 442368/1648877 [00:21<00:39, 30491.94it/s]\u001b[A\n",
      " 27%|██▋       | 450560/1648877 [00:21<00:43, 27432.50it/s]\u001b[A\n",
      " 28%|██▊       | 458752/1648877 [00:21<00:47, 25073.00it/s]\u001b[A\n",
      " 28%|██▊       | 466944/1648877 [00:22<00:53, 22022.83it/s]\u001b[A\n",
      " 29%|██▉       | 475136/1648877 [00:22<00:51, 22731.62it/s]\u001b[A\n",
      " 29%|██▉       | 483328/1648877 [00:22<00:46, 25256.18it/s]\u001b[A\n",
      " 30%|██▉       | 491520/1648877 [00:23<00:43, 26605.89it/s]\u001b[A\n",
      " 30%|███       | 499712/1648877 [00:23<00:37, 30814.66it/s]\u001b[A\n",
      " 31%|███       | 507904/1648877 [00:23<00:39, 29009.29it/s]\u001b[A\n",
      " 32%|███▏      | 524288/1648877 [00:23<00:32, 34634.55it/s]\u001b[A\n",
      " 32%|███▏      | 532480/1648877 [00:24<00:29, 37283.72it/s]\u001b[A\n",
      " 33%|███▎      | 540672/1648877 [00:24<00:28, 39323.49it/s]\u001b[A\n",
      " 33%|███▎      | 548864/1648877 [00:24<00:26, 41673.23it/s]\u001b[A\n",
      " 34%|███▍      | 557056/1648877 [00:24<00:24, 44181.55it/s]\u001b[A\n",
      " 34%|███▍      | 565248/1648877 [00:24<00:23, 45190.48it/s]\u001b[A\n",
      " 35%|███▍      | 573440/1648877 [00:25<00:48, 22283.61it/s]\u001b[A\n",
      " 36%|███▌      | 589824/1648877 [00:25<00:40, 26358.68it/s]\u001b[A\n",
      " 36%|███▋      | 598016/1648877 [00:26<00:54, 19198.84it/s]\u001b[A\n",
      " 37%|███▋      | 606208/1648877 [00:27<01:06, 15786.93it/s]\u001b[A\n",
      " 37%|███▋      | 614400/1648877 [00:27<00:51, 19924.23it/s]\u001b[A\n",
      " 38%|███▊      | 622592/1648877 [00:27<00:52, 19586.04it/s]\u001b[A\n",
      " 38%|███▊      | 630784/1648877 [00:28<00:57, 17710.14it/s]\u001b[A\n",
      " 39%|███▉      | 638976/1648877 [00:29<01:11, 14048.20it/s]\u001b[A\n",
      " 39%|███▉      | 647168/1648877 [00:29<00:58, 17021.06it/s]\u001b[A\n",
      " 40%|███▉      | 655360/1648877 [00:30<01:03, 15715.04it/s]\u001b[A\n",
      " 40%|████      | 663552/1648877 [00:30<01:02, 15888.01it/s]\u001b[A\n",
      " 41%|████      | 671744/1648877 [00:31<00:58, 16616.59it/s]\u001b[A\n",
      " 41%|████      | 679936/1648877 [00:31<00:56, 17043.70it/s]\u001b[A\n",
      " 42%|████▏     | 688128/1648877 [00:32<01:05, 14572.21it/s]\u001b[A\n",
      " 42%|████▏     | 696320/1648877 [00:33<01:11, 13321.33it/s]\u001b[A\n",
      " 43%|████▎     | 704512/1648877 [00:33<01:09, 13599.54it/s]\u001b[A\n",
      " 44%|████▎     | 720896/1648877 [00:34<00:55, 16790.01it/s]\u001b[A\n",
      " 44%|████▍     | 729088/1648877 [00:34<00:51, 17737.56it/s]\u001b[A\n",
      " 45%|████▍     | 737280/1648877 [00:34<00:48, 18919.54it/s]\u001b[A\n",
      " 45%|████▌     | 745472/1648877 [00:35<00:49, 18073.17it/s]\u001b[A\n",
      " 46%|████▌     | 753664/1648877 [00:35<00:47, 18713.83it/s]\u001b[A\n",
      " 46%|████▌     | 761856/1648877 [00:36<00:42, 21022.24it/s]\u001b[A\n",
      " 47%|████▋     | 770048/1648877 [00:36<00:47, 18311.78it/s]\u001b[A\n",
      " 48%|████▊     | 786432/1648877 [00:37<00:38, 22155.83it/s]\u001b[A\n",
      " 48%|████▊     | 794624/1648877 [00:37<00:54, 15745.08it/s]\u001b[A\n",
      " 49%|████▉     | 811008/1648877 [00:38<00:48, 17162.05it/s]\u001b[A\n",
      " 50%|████▉     | 819200/1648877 [00:39<00:47, 17491.31it/s]\u001b[A\n",
      " 50%|█████     | 827392/1648877 [00:39<00:48, 16831.11it/s]\u001b[A\n",
      " 51%|█████     | 835584/1648877 [00:40<00:45, 18030.94it/s]\u001b[A\n",
      " 51%|█████     | 843776/1648877 [00:40<00:51, 15622.78it/s]\u001b[A\n",
      " 52%|█████▏    | 851968/1648877 [00:40<00:40, 19779.49it/s]\u001b[A\n",
      " 52%|█████▏    | 860160/1648877 [00:41<00:41, 19152.27it/s]\u001b[A\n",
      " 53%|█████▎    | 868352/1648877 [00:41<00:40, 19114.64it/s]\u001b[A\n",
      " 53%|█████▎    | 876544/1648877 [00:43<01:07, 11382.43it/s]\u001b[A\n",
      " 54%|█████▍    | 892928/1648877 [00:43<00:50, 14851.97it/s]\u001b[A\n",
      " 55%|█████▍    | 901120/1648877 [00:43<00:49, 15015.84it/s]\u001b[A\n",
      " 56%|█████▌    | 917504/1648877 [00:44<00:42, 17105.44it/s]\u001b[A\n",
      " 56%|█████▌    | 925696/1648877 [00:46<01:11, 10086.55it/s]\u001b[A\n",
      " 57%|█████▋    | 933888/1648877 [00:50<02:46, 4295.02it/s] \u001b[A\n",
      " 57%|█████▋    | 942080/1648877 [00:51<02:05, 5613.20it/s]\u001b[A\n",
      " 58%|█████▊    | 950272/1648877 [00:51<01:37, 7135.57it/s]\u001b[A\n",
      " 58%|█████▊    | 958464/1648877 [00:51<01:16, 9049.03it/s]\u001b[A\n",
      " 59%|█████▊    | 966656/1648877 [00:52<01:06, 10254.77it/s]\u001b[A\n",
      " 59%|█████▉    | 974848/1648877 [00:52<00:52, 12937.80it/s]\u001b[A\n",
      " 60%|█████▉    | 983040/1648877 [00:52<00:44, 15116.42it/s]\u001b[A\n",
      " 60%|██████    | 991232/1648877 [00:53<00:46, 14102.29it/s]\u001b[A\n",
      " 61%|██████    | 999424/1648877 [00:53<00:35, 18046.72it/s]\u001b[A\n",
      " 61%|██████    | 1007616/1648877 [00:54<00:37, 16897.70it/s]\u001b[A\n",
      " 62%|██████▏   | 1015808/1648877 [00:55<00:43, 14666.56it/s]\u001b[A\n",
      " 62%|██████▏   | 1024000/1648877 [00:55<00:44, 13929.18it/s]\u001b[A\n",
      " 63%|██████▎   | 1032192/1648877 [00:56<00:42, 14400.70it/s]\u001b[A\n",
      " 63%|██████▎   | 1040384/1648877 [00:56<00:40, 15170.08it/s]\u001b[A\n",
      " 64%|██████▎   | 1048576/1648877 [00:57<00:34, 17201.49it/s]\u001b[A\n",
      " 64%|██████▍   | 1056768/1648877 [00:57<00:29, 19923.30it/s]\u001b[A\n",
      " 65%|██████▍   | 1064960/1648877 [00:57<00:31, 18764.18it/s]\u001b[A\n",
      " 65%|██████▌   | 1073152/1648877 [00:58<00:31, 18424.76it/s]\u001b[A\n",
      " 66%|██████▌   | 1081344/1648877 [00:59<00:41, 13673.29it/s]\u001b[A\n",
      " 67%|██████▋   | 1097728/1648877 [00:59<00:32, 17097.09it/s]\u001b[A\n",
      " 67%|██████▋   | 1105920/1648877 [01:00<00:33, 16304.25it/s]\u001b[A\n",
      " 68%|██████▊   | 1114112/1648877 [01:00<00:25, 21141.21it/s]\u001b[A\n",
      " 68%|██████▊   | 1122304/1648877 [01:01<00:31, 16772.04it/s]\u001b[A\n",
      " 69%|██████▊   | 1130496/1648877 [01:01<00:26, 19784.04it/s]\u001b[A\n",
      " 69%|██████▉   | 1138688/1648877 [01:01<00:25, 20263.38it/s]\u001b[A\n",
      " 70%|██████▉   | 1146880/1648877 [01:02<00:26, 19224.17it/s]\u001b[A\n",
      " 70%|███████   | 1155072/1648877 [01:02<00:29, 17001.83it/s]\u001b[A\n",
      " 71%|███████   | 1163264/1648877 [01:03<00:30, 15734.27it/s]\u001b[A\n",
      " 71%|███████   | 1171456/1648877 [01:03<00:31, 15391.58it/s]\u001b[A\n",
      " 72%|███████▏  | 1179648/1648877 [01:04<00:30, 15571.13it/s]\u001b[A\n",
      " 72%|███████▏  | 1187840/1648877 [01:04<00:26, 17544.45it/s]\u001b[A\n"
     ]
    },
    {
     "name": "stderr",
     "output_type": "stream",
     "text": [
      " 73%|███████▎  | 1196032/1648877 [01:05<00:22, 20106.95it/s]\u001b[A\n",
      " 73%|███████▎  | 1204224/1648877 [01:05<00:23, 18997.60it/s]\u001b[A\n",
      " 74%|███████▎  | 1212416/1648877 [01:05<00:21, 20414.79it/s]\u001b[A\n",
      " 74%|███████▍  | 1220608/1648877 [01:06<00:17, 24700.26it/s]\u001b[A\n",
      " 75%|███████▍  | 1228800/1648877 [01:06<00:16, 24716.70it/s]\u001b[A\n",
      " 75%|███████▌  | 1236992/1648877 [01:07<00:35, 11479.26it/s]\u001b[A\n",
      " 76%|███████▌  | 1245184/1648877 [01:08<00:32, 12523.12it/s]\u001b[A\n",
      " 77%|███████▋  | 1261568/1648877 [01:08<00:24, 15615.33it/s]\u001b[A\n",
      " 77%|███████▋  | 1269760/1648877 [01:09<00:22, 16750.80it/s]\u001b[A\n",
      " 78%|███████▊  | 1277952/1648877 [01:10<00:25, 14383.19it/s]\u001b[A\n",
      " 78%|███████▊  | 1286144/1648877 [01:11<00:31, 11574.43it/s]\u001b[A\n",
      " 78%|███████▊  | 1294336/1648877 [01:11<00:24, 14405.93it/s]\u001b[A\n",
      " 79%|███████▉  | 1302528/1648877 [01:11<00:19, 17330.44it/s]\u001b[A\n",
      " 79%|███████▉  | 1310720/1648877 [01:12<00:29, 11307.67it/s]\u001b[A\n",
      " 80%|███████▉  | 1318912/1648877 [01:13<00:28, 11778.35it/s]\u001b[A\n",
      " 80%|████████  | 1327104/1648877 [01:14<00:25, 12624.55it/s]\u001b[A\n",
      " 81%|████████  | 1335296/1648877 [01:14<00:21, 14872.23it/s]\u001b[A\n",
      " 81%|████████▏ | 1343488/1648877 [01:14<00:18, 16618.48it/s]\u001b[A\n",
      " 82%|████████▏ | 1351680/1648877 [01:15<00:24, 12227.17it/s]\u001b[A\n",
      " 82%|████████▏ | 1359872/1648877 [01:16<00:19, 14585.06it/s]\u001b[A\n",
      " 83%|████████▎ | 1368064/1648877 [01:16<00:17, 15919.34it/s]\u001b[A\n",
      " 83%|████████▎ | 1376256/1648877 [01:17<00:16, 16549.82it/s]\u001b[A\n",
      " 84%|████████▍ | 1384448/1648877 [01:18<00:24, 10987.62it/s]\u001b[A\n",
      " 84%|████████▍ | 1392640/1648877 [01:19<00:29, 8742.28it/s] \u001b[A\n",
      " 85%|████████▍ | 1400832/1648877 [01:21<00:37, 6656.47it/s]\u001b[A\n",
      " 85%|████████▌ | 1409024/1648877 [01:22<00:34, 7025.03it/s]\u001b[A\n",
      " 86%|████████▌ | 1417216/1648877 [01:23<00:28, 7994.62it/s]\u001b[A\n",
      " 86%|████████▋ | 1425408/1648877 [01:23<00:23, 9637.33it/s]\u001b[A\n",
      " 87%|████████▋ | 1433600/1648877 [01:25<00:27, 7785.84it/s]\u001b[A\n",
      " 87%|████████▋ | 1441792/1648877 [01:25<00:21, 9693.73it/s]\u001b[A\n",
      " 88%|████████▊ | 1449984/1648877 [01:26<00:22, 9014.24it/s]\u001b[A\n",
      " 88%|████████▊ | 1458176/1648877 [01:27<00:18, 10391.30it/s]\u001b[A\n",
      " 89%|████████▉ | 1466368/1648877 [01:27<00:15, 11966.87it/s]\u001b[A\n",
      " 89%|████████▉ | 1474560/1648877 [01:28<00:12, 13672.46it/s]\u001b[A\n",
      " 90%|████████▉ | 1482752/1648877 [01:29<00:19, 8696.09it/s] \u001b[A\n",
      " 90%|█████████ | 1490944/1648877 [01:30<00:19, 8284.36it/s]\u001b[A\n",
      " 91%|█████████ | 1499136/1648877 [01:32<00:21, 7064.46it/s]\u001b[A\n",
      " 91%|█████████▏| 1507328/1648877 [01:32<00:16, 8825.62it/s]\u001b[A\n",
      " 92%|█████████▏| 1515520/1648877 [01:35<00:22, 5864.97it/s]\u001b[A\n",
      " 92%|█████████▏| 1523712/1648877 [01:36<00:21, 5934.51it/s]\u001b[A\n",
      " 93%|█████████▎| 1531904/1648877 [01:37<00:18, 6419.23it/s]\u001b[A\n",
      " 93%|█████████▎| 1540096/1648877 [01:39<00:18, 5759.85it/s]\u001b[A\n",
      " 94%|█████████▍| 1556480/1648877 [01:39<00:11, 7783.95it/s]\u001b[A\n",
      " 95%|█████████▍| 1564672/1648877 [01:40<00:08, 9978.54it/s]\u001b[A\n",
      " 95%|█████████▌| 1572864/1648877 [01:40<00:06, 12646.86it/s]\u001b[A\n",
      " 96%|█████████▌| 1581056/1648877 [01:40<00:04, 13735.19it/s]\u001b[A\n",
      " 96%|█████████▋| 1589248/1648877 [01:41<00:04, 14673.64it/s]\u001b[A\n",
      " 97%|█████████▋| 1597440/1648877 [01:42<00:04, 10831.61it/s]\u001b[A\n",
      " 97%|█████████▋| 1605632/1648877 [01:42<00:03, 12648.36it/s]\u001b[A\n",
      " 98%|█████████▊| 1613824/1648877 [01:43<00:02, 14403.77it/s]\u001b[A\n",
      " 98%|█████████▊| 1622016/1648877 [01:44<00:02, 10765.92it/s]\u001b[A\n",
      " 99%|█████████▉| 1630208/1648877 [01:45<00:01, 10031.88it/s]\u001b[A\n",
      " 99%|█████████▉| 1638400/1648877 [01:46<00:00, 11263.55it/s]\u001b[A\n",
      "100%|█████████▉| 1646592/1648877 [01:46<00:00, 10458.65it/s]\u001b[A\n",
      "1654784it [01:47, 13930.59it/s]                             \u001b[A\n",
      "\n",
      "0it [00:00, ?it/s]\u001b[A\u001b[A"
     ]
    },
    {
     "name": "stdout",
     "output_type": "stream",
     "text": [
      "Extracting /Users/ferrarostefano/.pytorch/MNIST_data/MNIST/raw/t10k-images-idx3-ubyte.gz to /Users/ferrarostefano/.pytorch/MNIST_data/MNIST/raw\n",
      "Downloading http://yann.lecun.com/exdb/mnist/t10k-labels-idx1-ubyte.gz to /Users/ferrarostefano/.pytorch/MNIST_data/MNIST/raw/t10k-labels-idx1-ubyte.gz\n"
     ]
    },
    {
     "name": "stderr",
     "output_type": "stream",
     "text": [
      "\n",
      "\n",
      "  0%|          | 0/4542 [00:00<?, ?it/s]\u001b[A\u001b[A\n",
      "\n",
      "8192it [00:01, 6450.72it/s]             \u001b[A\u001b[A"
     ]
    },
    {
     "name": "stdout",
     "output_type": "stream",
     "text": [
      "Extracting /Users/ferrarostefano/.pytorch/MNIST_data/MNIST/raw/t10k-labels-idx1-ubyte.gz to /Users/ferrarostefano/.pytorch/MNIST_data/MNIST/raw\n",
      "Processing...\n",
      "Done!\n"
     ]
    },
    {
     "name": "stderr",
     "output_type": "stream",
     "text": [
      "\n",
      "1654784it [02:01, 13930.59it/s]\u001b[A"
     ]
    }
   ],
   "source": [
    "### Run this cell\n",
    "\n",
    "from torchvision import datasets, transforms\n",
    "\n",
    "# Define a transform to normalize the data\n",
    "transform = transforms.Compose([transforms.ToTensor(),\n",
    "                              transforms.Normalize((0.5), (0.5)),\n",
    "                              ])\n",
    "\n",
    "# Download and load the training data\n",
    "trainset = datasets.MNIST('~/.pytorch/MNIST_data/', download=True, train=True, transform=transform)\n",
    "trainloader = torch.utils.data.DataLoader(trainset, batch_size=64, shuffle=True)"
   ]
  },
  {
   "cell_type": "markdown",
   "metadata": {},
   "source": [
    "We have the training data loaded into `trainloader` and we make that an iterator with `iter(trainloader)`. Later, we'll use this to loop through the dataset for training, like\n",
    "\n",
    "```python\n",
    "for image, label in trainloader:\n",
    "    ## do things with images and labels\n",
    "```\n",
    "\n",
    "You'll notice I created the `trainloader` with a batch size of 64, and `shuffle=True`. The batch size is the number of images we get in one iteration from the data loader and pass through our network, often called a *batch*. And `shuffle=True` tells it to shuffle the dataset every time we start going through the data loader again. But here I'm just grabbing the first batch so we can check out the data. We can see below that `images` is just a tensor with size `(64, 1, 28, 28)`. So, 64 images per batch, 1 color channel, and 28x28 images."
   ]
  },
  {
   "cell_type": "code",
   "execution_count": 7,
   "metadata": {},
   "outputs": [
    {
     "name": "stdout",
     "output_type": "stream",
     "text": [
      "<torch.utils.data.dataloader.DataLoader object at 0x122d33a90>\n"
     ]
    },
    {
     "ename": "IndexError",
     "evalue": "too many indices for tensor of dimension 0",
     "output_type": "error",
     "traceback": [
      "\u001b[0;31m---------------------------------------------------------------------------\u001b[0m",
      "\u001b[0;31mIndexError\u001b[0m                                Traceback (most recent call last)",
      "\u001b[0;32m<ipython-input-7-b8a94e1ac66d>\u001b[0m in \u001b[0;36m<module>\u001b[0;34m\u001b[0m\n\u001b[1;32m      2\u001b[0m \u001b[0;34m\u001b[0m\u001b[0m\n\u001b[1;32m      3\u001b[0m \u001b[0mdataiter\u001b[0m \u001b[0;34m=\u001b[0m \u001b[0miter\u001b[0m\u001b[0;34m(\u001b[0m\u001b[0mtrainloader\u001b[0m\u001b[0;34m)\u001b[0m\u001b[0;34m\u001b[0m\u001b[0;34m\u001b[0m\u001b[0m\n\u001b[0;32m----> 4\u001b[0;31m \u001b[0mimages\u001b[0m\u001b[0;34m,\u001b[0m \u001b[0mlabels\u001b[0m \u001b[0;34m=\u001b[0m \u001b[0mdataiter\u001b[0m\u001b[0;34m.\u001b[0m\u001b[0mnext\u001b[0m\u001b[0;34m(\u001b[0m\u001b[0;34m)\u001b[0m\u001b[0;34m\u001b[0m\u001b[0;34m\u001b[0m\u001b[0m\n\u001b[0m\u001b[1;32m      5\u001b[0m \u001b[0mprint\u001b[0m\u001b[0;34m(\u001b[0m\u001b[0mtype\u001b[0m\u001b[0;34m(\u001b[0m\u001b[0mimages\u001b[0m\u001b[0;34m)\u001b[0m\u001b[0;34m)\u001b[0m\u001b[0;34m\u001b[0m\u001b[0;34m\u001b[0m\u001b[0m\n\u001b[1;32m      6\u001b[0m \u001b[0mprint\u001b[0m\u001b[0;34m(\u001b[0m\u001b[0mimages\u001b[0m\u001b[0;34m.\u001b[0m\u001b[0mshape\u001b[0m\u001b[0;34m)\u001b[0m\u001b[0;34m\u001b[0m\u001b[0;34m\u001b[0m\u001b[0m\n",
      "\u001b[0;32m//anaconda3/lib/python3.7/site-packages/torch/utils/data/dataloader.py\u001b[0m in \u001b[0;36m__next__\u001b[0;34m(self)\u001b[0m\n\u001b[1;32m    344\u001b[0m     \u001b[0;32mdef\u001b[0m \u001b[0m__next__\u001b[0m\u001b[0;34m(\u001b[0m\u001b[0mself\u001b[0m\u001b[0;34m)\u001b[0m\u001b[0;34m:\u001b[0m\u001b[0;34m\u001b[0m\u001b[0;34m\u001b[0m\u001b[0m\n\u001b[1;32m    345\u001b[0m         \u001b[0mindex\u001b[0m \u001b[0;34m=\u001b[0m \u001b[0mself\u001b[0m\u001b[0;34m.\u001b[0m\u001b[0m_next_index\u001b[0m\u001b[0;34m(\u001b[0m\u001b[0;34m)\u001b[0m  \u001b[0;31m# may raise StopIteration\u001b[0m\u001b[0;34m\u001b[0m\u001b[0;34m\u001b[0m\u001b[0m\n\u001b[0;32m--> 346\u001b[0;31m         \u001b[0mdata\u001b[0m \u001b[0;34m=\u001b[0m \u001b[0mself\u001b[0m\u001b[0;34m.\u001b[0m\u001b[0m_dataset_fetcher\u001b[0m\u001b[0;34m.\u001b[0m\u001b[0mfetch\u001b[0m\u001b[0;34m(\u001b[0m\u001b[0mindex\u001b[0m\u001b[0;34m)\u001b[0m  \u001b[0;31m# may raise StopIteration\u001b[0m\u001b[0;34m\u001b[0m\u001b[0;34m\u001b[0m\u001b[0m\n\u001b[0m\u001b[1;32m    347\u001b[0m         \u001b[0;32mif\u001b[0m \u001b[0mself\u001b[0m\u001b[0;34m.\u001b[0m\u001b[0m_pin_memory\u001b[0m\u001b[0;34m:\u001b[0m\u001b[0;34m\u001b[0m\u001b[0;34m\u001b[0m\u001b[0m\n\u001b[1;32m    348\u001b[0m             \u001b[0mdata\u001b[0m \u001b[0;34m=\u001b[0m \u001b[0m_utils\u001b[0m\u001b[0;34m.\u001b[0m\u001b[0mpin_memory\u001b[0m\u001b[0;34m.\u001b[0m\u001b[0mpin_memory\u001b[0m\u001b[0;34m(\u001b[0m\u001b[0mdata\u001b[0m\u001b[0;34m)\u001b[0m\u001b[0;34m\u001b[0m\u001b[0;34m\u001b[0m\u001b[0m\n",
      "\u001b[0;32m//anaconda3/lib/python3.7/site-packages/torch/utils/data/_utils/fetch.py\u001b[0m in \u001b[0;36mfetch\u001b[0;34m(self, possibly_batched_index)\u001b[0m\n\u001b[1;32m     42\u001b[0m     \u001b[0;32mdef\u001b[0m \u001b[0mfetch\u001b[0m\u001b[0;34m(\u001b[0m\u001b[0mself\u001b[0m\u001b[0;34m,\u001b[0m \u001b[0mpossibly_batched_index\u001b[0m\u001b[0;34m)\u001b[0m\u001b[0;34m:\u001b[0m\u001b[0;34m\u001b[0m\u001b[0;34m\u001b[0m\u001b[0m\n\u001b[1;32m     43\u001b[0m         \u001b[0;32mif\u001b[0m \u001b[0mself\u001b[0m\u001b[0;34m.\u001b[0m\u001b[0mauto_collation\u001b[0m\u001b[0;34m:\u001b[0m\u001b[0;34m\u001b[0m\u001b[0;34m\u001b[0m\u001b[0m\n\u001b[0;32m---> 44\u001b[0;31m             \u001b[0mdata\u001b[0m \u001b[0;34m=\u001b[0m \u001b[0;34m[\u001b[0m\u001b[0mself\u001b[0m\u001b[0;34m.\u001b[0m\u001b[0mdataset\u001b[0m\u001b[0;34m[\u001b[0m\u001b[0midx\u001b[0m\u001b[0;34m]\u001b[0m \u001b[0;32mfor\u001b[0m \u001b[0midx\u001b[0m \u001b[0;32min\u001b[0m \u001b[0mpossibly_batched_index\u001b[0m\u001b[0;34m]\u001b[0m\u001b[0;34m\u001b[0m\u001b[0;34m\u001b[0m\u001b[0m\n\u001b[0m\u001b[1;32m     45\u001b[0m         \u001b[0;32melse\u001b[0m\u001b[0;34m:\u001b[0m\u001b[0;34m\u001b[0m\u001b[0;34m\u001b[0m\u001b[0m\n\u001b[1;32m     46\u001b[0m             \u001b[0mdata\u001b[0m \u001b[0;34m=\u001b[0m \u001b[0mself\u001b[0m\u001b[0;34m.\u001b[0m\u001b[0mdataset\u001b[0m\u001b[0;34m[\u001b[0m\u001b[0mpossibly_batched_index\u001b[0m\u001b[0;34m]\u001b[0m\u001b[0;34m\u001b[0m\u001b[0;34m\u001b[0m\u001b[0m\n",
      "\u001b[0;32m//anaconda3/lib/python3.7/site-packages/torch/utils/data/_utils/fetch.py\u001b[0m in \u001b[0;36m<listcomp>\u001b[0;34m(.0)\u001b[0m\n\u001b[1;32m     42\u001b[0m     \u001b[0;32mdef\u001b[0m \u001b[0mfetch\u001b[0m\u001b[0;34m(\u001b[0m\u001b[0mself\u001b[0m\u001b[0;34m,\u001b[0m \u001b[0mpossibly_batched_index\u001b[0m\u001b[0;34m)\u001b[0m\u001b[0;34m:\u001b[0m\u001b[0;34m\u001b[0m\u001b[0;34m\u001b[0m\u001b[0m\n\u001b[1;32m     43\u001b[0m         \u001b[0;32mif\u001b[0m \u001b[0mself\u001b[0m\u001b[0;34m.\u001b[0m\u001b[0mauto_collation\u001b[0m\u001b[0;34m:\u001b[0m\u001b[0;34m\u001b[0m\u001b[0;34m\u001b[0m\u001b[0m\n\u001b[0;32m---> 44\u001b[0;31m             \u001b[0mdata\u001b[0m \u001b[0;34m=\u001b[0m \u001b[0;34m[\u001b[0m\u001b[0mself\u001b[0m\u001b[0;34m.\u001b[0m\u001b[0mdataset\u001b[0m\u001b[0;34m[\u001b[0m\u001b[0midx\u001b[0m\u001b[0;34m]\u001b[0m \u001b[0;32mfor\u001b[0m \u001b[0midx\u001b[0m \u001b[0;32min\u001b[0m \u001b[0mpossibly_batched_index\u001b[0m\u001b[0;34m]\u001b[0m\u001b[0;34m\u001b[0m\u001b[0;34m\u001b[0m\u001b[0m\n\u001b[0m\u001b[1;32m     45\u001b[0m         \u001b[0;32melse\u001b[0m\u001b[0;34m:\u001b[0m\u001b[0;34m\u001b[0m\u001b[0;34m\u001b[0m\u001b[0m\n\u001b[1;32m     46\u001b[0m             \u001b[0mdata\u001b[0m \u001b[0;34m=\u001b[0m \u001b[0mself\u001b[0m\u001b[0;34m.\u001b[0m\u001b[0mdataset\u001b[0m\u001b[0;34m[\u001b[0m\u001b[0mpossibly_batched_index\u001b[0m\u001b[0;34m]\u001b[0m\u001b[0;34m\u001b[0m\u001b[0;34m\u001b[0m\u001b[0m\n",
      "\u001b[0;32m//anaconda3/lib/python3.7/site-packages/torchvision/datasets/mnist.py\u001b[0m in \u001b[0;36m__getitem__\u001b[0;34m(self, index)\u001b[0m\n\u001b[1;32m     93\u001b[0m \u001b[0;34m\u001b[0m\u001b[0m\n\u001b[1;32m     94\u001b[0m         \u001b[0;32mif\u001b[0m \u001b[0mself\u001b[0m\u001b[0;34m.\u001b[0m\u001b[0mtransform\u001b[0m \u001b[0;32mis\u001b[0m \u001b[0;32mnot\u001b[0m \u001b[0;32mNone\u001b[0m\u001b[0;34m:\u001b[0m\u001b[0;34m\u001b[0m\u001b[0;34m\u001b[0m\u001b[0m\n\u001b[0;32m---> 95\u001b[0;31m             \u001b[0mimg\u001b[0m \u001b[0;34m=\u001b[0m \u001b[0mself\u001b[0m\u001b[0;34m.\u001b[0m\u001b[0mtransform\u001b[0m\u001b[0;34m(\u001b[0m\u001b[0mimg\u001b[0m\u001b[0;34m)\u001b[0m\u001b[0;34m\u001b[0m\u001b[0;34m\u001b[0m\u001b[0m\n\u001b[0m\u001b[1;32m     96\u001b[0m \u001b[0;34m\u001b[0m\u001b[0m\n\u001b[1;32m     97\u001b[0m         \u001b[0;32mif\u001b[0m \u001b[0mself\u001b[0m\u001b[0;34m.\u001b[0m\u001b[0mtarget_transform\u001b[0m \u001b[0;32mis\u001b[0m \u001b[0;32mnot\u001b[0m \u001b[0;32mNone\u001b[0m\u001b[0;34m:\u001b[0m\u001b[0;34m\u001b[0m\u001b[0;34m\u001b[0m\u001b[0m\n",
      "\u001b[0;32m//anaconda3/lib/python3.7/site-packages/torchvision/transforms/transforms.py\u001b[0m in \u001b[0;36m__call__\u001b[0;34m(self, img)\u001b[0m\n\u001b[1;32m     68\u001b[0m     \u001b[0;32mdef\u001b[0m \u001b[0m__call__\u001b[0m\u001b[0;34m(\u001b[0m\u001b[0mself\u001b[0m\u001b[0;34m,\u001b[0m \u001b[0mimg\u001b[0m\u001b[0;34m)\u001b[0m\u001b[0;34m:\u001b[0m\u001b[0;34m\u001b[0m\u001b[0;34m\u001b[0m\u001b[0m\n\u001b[1;32m     69\u001b[0m         \u001b[0;32mfor\u001b[0m \u001b[0mt\u001b[0m \u001b[0;32min\u001b[0m \u001b[0mself\u001b[0m\u001b[0;34m.\u001b[0m\u001b[0mtransforms\u001b[0m\u001b[0;34m:\u001b[0m\u001b[0;34m\u001b[0m\u001b[0;34m\u001b[0m\u001b[0m\n\u001b[0;32m---> 70\u001b[0;31m             \u001b[0mimg\u001b[0m \u001b[0;34m=\u001b[0m \u001b[0mt\u001b[0m\u001b[0;34m(\u001b[0m\u001b[0mimg\u001b[0m\u001b[0;34m)\u001b[0m\u001b[0;34m\u001b[0m\u001b[0;34m\u001b[0m\u001b[0m\n\u001b[0m\u001b[1;32m     71\u001b[0m         \u001b[0;32mreturn\u001b[0m \u001b[0mimg\u001b[0m\u001b[0;34m\u001b[0m\u001b[0;34m\u001b[0m\u001b[0m\n\u001b[1;32m     72\u001b[0m \u001b[0;34m\u001b[0m\u001b[0m\n",
      "\u001b[0;32m//anaconda3/lib/python3.7/site-packages/torchvision/transforms/transforms.py\u001b[0m in \u001b[0;36m__call__\u001b[0;34m(self, tensor)\u001b[0m\n\u001b[1;32m    173\u001b[0m             \u001b[0mTensor\u001b[0m\u001b[0;34m:\u001b[0m \u001b[0mNormalized\u001b[0m \u001b[0mTensor\u001b[0m \u001b[0mimage\u001b[0m\u001b[0;34m.\u001b[0m\u001b[0;34m\u001b[0m\u001b[0;34m\u001b[0m\u001b[0m\n\u001b[1;32m    174\u001b[0m         \"\"\"\n\u001b[0;32m--> 175\u001b[0;31m         \u001b[0;32mreturn\u001b[0m \u001b[0mF\u001b[0m\u001b[0;34m.\u001b[0m\u001b[0mnormalize\u001b[0m\u001b[0;34m(\u001b[0m\u001b[0mtensor\u001b[0m\u001b[0;34m,\u001b[0m \u001b[0mself\u001b[0m\u001b[0;34m.\u001b[0m\u001b[0mmean\u001b[0m\u001b[0;34m,\u001b[0m \u001b[0mself\u001b[0m\u001b[0;34m.\u001b[0m\u001b[0mstd\u001b[0m\u001b[0;34m,\u001b[0m \u001b[0mself\u001b[0m\u001b[0;34m.\u001b[0m\u001b[0minplace\u001b[0m\u001b[0;34m)\u001b[0m\u001b[0;34m\u001b[0m\u001b[0;34m\u001b[0m\u001b[0m\n\u001b[0m\u001b[1;32m    176\u001b[0m \u001b[0;34m\u001b[0m\u001b[0m\n\u001b[1;32m    177\u001b[0m     \u001b[0;32mdef\u001b[0m \u001b[0m__repr__\u001b[0m\u001b[0;34m(\u001b[0m\u001b[0mself\u001b[0m\u001b[0;34m)\u001b[0m\u001b[0;34m:\u001b[0m\u001b[0;34m\u001b[0m\u001b[0;34m\u001b[0m\u001b[0m\n",
      "\u001b[0;32m//anaconda3/lib/python3.7/site-packages/torchvision/transforms/functional.py\u001b[0m in \u001b[0;36mnormalize\u001b[0;34m(tensor, mean, std, inplace)\u001b[0m\n\u001b[1;32m    215\u001b[0m     \u001b[0mmean\u001b[0m \u001b[0;34m=\u001b[0m \u001b[0mtorch\u001b[0m\u001b[0;34m.\u001b[0m\u001b[0mas_tensor\u001b[0m\u001b[0;34m(\u001b[0m\u001b[0mmean\u001b[0m\u001b[0;34m,\u001b[0m \u001b[0mdtype\u001b[0m\u001b[0;34m=\u001b[0m\u001b[0mdtype\u001b[0m\u001b[0;34m,\u001b[0m \u001b[0mdevice\u001b[0m\u001b[0;34m=\u001b[0m\u001b[0mtensor\u001b[0m\u001b[0;34m.\u001b[0m\u001b[0mdevice\u001b[0m\u001b[0;34m)\u001b[0m\u001b[0;34m\u001b[0m\u001b[0;34m\u001b[0m\u001b[0m\n\u001b[1;32m    216\u001b[0m     \u001b[0mstd\u001b[0m \u001b[0;34m=\u001b[0m \u001b[0mtorch\u001b[0m\u001b[0;34m.\u001b[0m\u001b[0mas_tensor\u001b[0m\u001b[0;34m(\u001b[0m\u001b[0mstd\u001b[0m\u001b[0;34m,\u001b[0m \u001b[0mdtype\u001b[0m\u001b[0;34m=\u001b[0m\u001b[0mdtype\u001b[0m\u001b[0;34m,\u001b[0m \u001b[0mdevice\u001b[0m\u001b[0;34m=\u001b[0m\u001b[0mtensor\u001b[0m\u001b[0;34m.\u001b[0m\u001b[0mdevice\u001b[0m\u001b[0;34m)\u001b[0m\u001b[0;34m\u001b[0m\u001b[0;34m\u001b[0m\u001b[0m\n\u001b[0;32m--> 217\u001b[0;31m     \u001b[0mtensor\u001b[0m\u001b[0;34m.\u001b[0m\u001b[0msub_\u001b[0m\u001b[0;34m(\u001b[0m\u001b[0mmean\u001b[0m\u001b[0;34m[\u001b[0m\u001b[0;34m:\u001b[0m\u001b[0;34m,\u001b[0m \u001b[0;32mNone\u001b[0m\u001b[0;34m,\u001b[0m \u001b[0;32mNone\u001b[0m\u001b[0;34m]\u001b[0m\u001b[0;34m)\u001b[0m\u001b[0;34m.\u001b[0m\u001b[0mdiv_\u001b[0m\u001b[0;34m(\u001b[0m\u001b[0mstd\u001b[0m\u001b[0;34m[\u001b[0m\u001b[0;34m:\u001b[0m\u001b[0;34m,\u001b[0m \u001b[0;32mNone\u001b[0m\u001b[0;34m,\u001b[0m \u001b[0;32mNone\u001b[0m\u001b[0;34m]\u001b[0m\u001b[0;34m)\u001b[0m\u001b[0;34m\u001b[0m\u001b[0;34m\u001b[0m\u001b[0m\n\u001b[0m\u001b[1;32m    218\u001b[0m     \u001b[0;32mreturn\u001b[0m \u001b[0mtensor\u001b[0m\u001b[0;34m\u001b[0m\u001b[0;34m\u001b[0m\u001b[0m\n\u001b[1;32m    219\u001b[0m \u001b[0;34m\u001b[0m\u001b[0m\n",
      "\u001b[0;31mIndexError\u001b[0m: too many indices for tensor of dimension 0"
     ]
    }
   ],
   "source": [
    "print(trainloader)\n",
    "\n",
    "dataiter = iter(trainloader)\n",
    "images, labels = dataiter.next()\n",
    "print(type(images))\n",
    "print(images.shape)\n",
    "print(labels.shape)"
   ]
  },
  {
   "cell_type": "markdown",
   "metadata": {},
   "source": [
    "This is what one of the images looks like. "
   ]
  },
  {
   "cell_type": "code",
   "execution_count": 6,
   "metadata": {},
   "outputs": [
    {
     "ename": "NameError",
     "evalue": "name 'images' is not defined",
     "output_type": "error",
     "traceback": [
      "\u001b[0;31m---------------------------------------------------------------------------\u001b[0m",
      "\u001b[0;31mNameError\u001b[0m                                 Traceback (most recent call last)",
      "\u001b[0;32m<ipython-input-6-bc2cee0c0ad3>\u001b[0m in \u001b[0;36m<module>\u001b[0;34m\u001b[0m\n\u001b[0;32m----> 1\u001b[0;31m \u001b[0mplt\u001b[0m\u001b[0;34m.\u001b[0m\u001b[0mimshow\u001b[0m\u001b[0;34m(\u001b[0m\u001b[0mimages\u001b[0m\u001b[0;34m[\u001b[0m\u001b[0;36m1\u001b[0m\u001b[0;34m]\u001b[0m\u001b[0;34m.\u001b[0m\u001b[0mnumpy\u001b[0m\u001b[0;34m(\u001b[0m\u001b[0;34m)\u001b[0m\u001b[0;34m.\u001b[0m\u001b[0msqueeze\u001b[0m\u001b[0;34m(\u001b[0m\u001b[0;34m)\u001b[0m\u001b[0;34m,\u001b[0m \u001b[0mcmap\u001b[0m\u001b[0;34m=\u001b[0m\u001b[0;34m'Greys_r'\u001b[0m\u001b[0;34m)\u001b[0m\u001b[0;34m;\u001b[0m\u001b[0;34m\u001b[0m\u001b[0;34m\u001b[0m\u001b[0m\n\u001b[0m",
      "\u001b[0;31mNameError\u001b[0m: name 'images' is not defined"
     ]
    }
   ],
   "source": [
    "plt.imshow(images[1].numpy().squeeze(), cmap='Greys_r');"
   ]
  },
  {
   "cell_type": "markdown",
   "metadata": {},
   "source": [
    "First, let's try to build a simple network for this dataset using weight matrices and matrix multiplications. Then, we'll see how to do it using PyTorch's `nn` module which provides a much more convenient and powerful method for defining network architectures.\n",
    "\n",
    "The networks you've seen so far are called *fully-connected* or *dense* networks. Each unit in one layer is connected to each unit in the next layer. In fully-connected networks, the input to each layer must be a one-dimensional vector (which can be stacked into a 2D tensor as a batch of multiple examples). However, our images are 28x28 2D tensors, so we need to convert them into 1D vectors. Thinking about sizes, we need to convert the batch of images with shape `(64, 1, 28, 28)` to a have a shape of `(64, 784)`, 784 is 28 times 28. This is typically called *flattening*, we flattened the 2D images into 1D vectors.\n",
    "\n",
    "Previously you built a network with one output unit. Here we need 10 output units, one for each digit. We want our network to predict the digit shown in an image, so what we'll do is calculate probabilities that the image is of any one digit or class. This ends up being a discrete probability distribution over the classes (digits) that tells us the most likely class for the image. That means we need 10 output units for the 10 classes (digits). We'll see how to convert the network output into a probability distribution next.\n",
    "\n",
    "> **Exercise:** Flatten the batch of images `images`. Then build a multi-layer network with 784 input units, 256 hidden units, and 10 output units using random tensors for the weights and biases. For now, use a sigmoid activation for the hidden layer. Leave the output layer without an activation, we'll add one that gives us a probability distribution next."
   ]
  },
  {
   "cell_type": "code",
   "execution_count": null,
   "metadata": {},
   "outputs": [],
   "source": [
    "## Your solution\n",
    "\n",
    "\n",
    "out = # output of your network, should have shape (64,10)"
   ]
  },
  {
   "cell_type": "markdown",
   "metadata": {},
   "source": [
    "Now we have 10 outputs for our network. We want to pass in an image to our network and get out a probability distribution over the classes that tells us the likely class(es) the image belongs to. Something that looks like this:\n",
    "<img src='assets/image_distribution.png' width=500px>\n",
    "\n",
    "Here we see that the probability for each class is roughly the same. This is representing an untrained network, it hasn't seen any data yet so it just returns a uniform distribution with equal probabilities for each class.\n",
    "\n",
    "To calculate this probability distribution, we often use the [**softmax** function](https://en.wikipedia.org/wiki/Softmax_function). Mathematically this looks like\n",
    "\n",
    "$$\n",
    "\\Large \\sigma(x_i) = \\cfrac{e^{x_i}}{\\sum_k^K{e^{x_k}}}\n",
    "$$\n",
    "\n",
    "What this does is squish each input $x_i$ between 0 and 1 and normalizes the values to give you a proper probability distribution where the probabilites sum up to one.\n",
    "\n",
    "> **Exercise:** Implement a function `softmax` that performs the softmax calculation and returns probability distributions for each example in the batch. Note that you'll need to pay attention to the shapes when doing this. If you have a tensor `a` with shape `(64, 10)` and a tensor `b` with shape `(64,)`, doing `a/b` will give you an error because PyTorch will try to do the division across the columns (called broadcasting) but you'll get a size mismatch. The way to think about this is for each of the 64 examples, you only want to divide by one value, the sum in the denominator. So you need `b` to have a shape of `(64, 1)`. This way PyTorch will divide the 10 values in each row of `a` by the one value in each row of `b`. Pay attention to how you take the sum as well. You'll need to define the `dim` keyword in `torch.sum`. Setting `dim=0` takes the sum across the rows while `dim=1` takes the sum across the columns."
   ]
  },
  {
   "cell_type": "code",
   "execution_count": null,
   "metadata": {},
   "outputs": [],
   "source": [
    "def softmax(x):\n",
    "    ## TODO: Implement the softmax function here\n",
    "\n",
    "# Here, out should be the output of the network in the previous excercise with shape (64,10)\n",
    "probabilities = softmax(out)\n",
    "\n",
    "# Does it have the right shape? Should be (64, 10)\n",
    "print(probabilities.shape)\n",
    "# Does it sum to 1?\n",
    "print(probabilities.sum(dim=1))"
   ]
  },
  {
   "cell_type": "markdown",
   "metadata": {},
   "source": [
    "## Building networks with PyTorch\n",
    "\n",
    "PyTorch provides a module `nn` that makes building networks much simpler. Here I'll show you how to build the same one as above with 784 inputs, 256 hidden units, 10 output units and a softmax output."
   ]
  },
  {
   "cell_type": "code",
   "execution_count": null,
   "metadata": {},
   "outputs": [],
   "source": [
    "from torch import nn"
   ]
  },
  {
   "cell_type": "code",
   "execution_count": null,
   "metadata": {},
   "outputs": [],
   "source": [
    "class Network(nn.Module):\n",
    "    def __init__(self):\n",
    "        super().__init__()\n",
    "        \n",
    "        # Inputs to hidden layer linear transformation\n",
    "        self.hidden = nn.Linear(784, 256)\n",
    "        # Output layer, 10 units - one for each digit\n",
    "        self.output = nn.Linear(256, 10)\n",
    "        \n",
    "        # Define sigmoid activation and softmax output \n",
    "        self.sigmoid = nn.Sigmoid()\n",
    "        self.softmax = nn.Softmax(dim=1)\n",
    "        \n",
    "    def forward(self, x):\n",
    "        # Pass the input tensor through each of our operations\n",
    "        x = self.hidden(x)\n",
    "        x = self.sigmoid(x)\n",
    "        x = self.output(x)\n",
    "        x = self.softmax(x)\n",
    "        \n",
    "        return x"
   ]
  },
  {
   "cell_type": "markdown",
   "metadata": {},
   "source": [
    "Let's go through this bit by bit.\n",
    "\n",
    "```python\n",
    "class Network(nn.Module):\n",
    "```\n",
    "\n",
    "Here we're inheriting from `nn.Module`. Combined with `super().__init__()` this creates a class that tracks the architecture and provides a lot of useful methods and attributes. It is mandatory to inherit from `nn.Module` when you're creating a class for your network. The name of the class itself can be anything.\n",
    "\n",
    "```python\n",
    "self.hidden = nn.Linear(784, 256)\n",
    "```\n",
    "\n",
    "This line creates a module for a linear transformation, $x\\mathbf{W} + b$, with 784 inputs and 256 outputs and assigns it to `self.hidden`. The module automatically creates the weight and bias tensors which we'll use in the `forward` method. You can access the weight and bias tensors once the network (`net`) is created with `net.hidden.weight` and `net.hidden.bias`.\n",
    "\n",
    "```python\n",
    "self.output = nn.Linear(256, 10)\n",
    "```\n",
    "\n",
    "Similarly, this creates another linear transformation with 256 inputs and 10 outputs.\n",
    "\n",
    "```python\n",
    "self.sigmoid = nn.Sigmoid()\n",
    "self.softmax = nn.Softmax(dim=1)\n",
    "```\n",
    "\n",
    "Here I defined operations for the sigmoid activation and softmax output. Setting `dim=1` in `nn.Softmax(dim=1)` calculates softmax across the columns.\n",
    "\n",
    "```python\n",
    "def forward(self, x):\n",
    "```\n",
    "\n",
    "PyTorch networks created with `nn.Module` must have a `forward` method defined. It takes in a tensor `x` and passes it through the operations you defined in the `__init__` method.\n",
    "\n",
    "```python\n",
    "x = self.hidden(x)\n",
    "x = self.sigmoid(x)\n",
    "x = self.output(x)\n",
    "x = self.softmax(x)\n",
    "```\n",
    "\n",
    "Here the input tensor `x` is passed through each operation and reassigned to `x`. We can see that the input tensor goes through the hidden layer, then a sigmoid function, then the output layer, and finally the softmax function. It doesn't matter what you name the variables here, as long as the inputs and outputs of the operations match the network architecture you want to build. The order in which you define things in the `__init__` method doesn't matter, but you'll need to sequence the operations correctly in the `forward` method.\n",
    "\n",
    "Now we can create a `Network` object."
   ]
  },
  {
   "cell_type": "code",
   "execution_count": null,
   "metadata": {},
   "outputs": [],
   "source": [
    "# Create the network and look at it's text representation\n",
    "model = Network()\n",
    "model"
   ]
  },
  {
   "cell_type": "markdown",
   "metadata": {},
   "source": [
    "You can define the network somewhat more concisely and clearly using the `torch.nn.functional` module. This is the most common way you'll see networks defined as many operations are simple element-wise functions. We normally import this module as `F`, `import torch.nn.functional as F`."
   ]
  },
  {
   "cell_type": "code",
   "execution_count": null,
   "metadata": {},
   "outputs": [],
   "source": [
    "import torch.nn.functional as F\n",
    "\n",
    "class Network(nn.Module):\n",
    "    def __init__(self):\n",
    "        super().__init__()\n",
    "        # Inputs to hidden layer linear transformation\n",
    "        self.hidden = nn.Linear(784, 256)\n",
    "        # Output layer, 10 units - one for each digit\n",
    "        self.output = nn.Linear(256, 10)\n",
    "        \n",
    "    def forward(self, x):\n",
    "        # Hidden layer with sigmoid activation\n",
    "        x = F.sigmoid(self.hidden(x))\n",
    "        # Output layer with softmax activation\n",
    "        x = F.softmax(self.output(x), dim=1)\n",
    "        \n",
    "        return x"
   ]
  },
  {
   "cell_type": "markdown",
   "metadata": {},
   "source": [
    "### Activation functions\n",
    "\n",
    "So far we've only been looking at the sigmoid activation function, but in general any function can be used as an activation function. The only requirement is that for a network to approximate a non-linear function, the activation functions must be non-linear. Here are a few more examples of common activation functions: Tanh (hyperbolic tangent), and ReLU (rectified linear unit).\n",
    "\n",
    "<img src=\"assets/activation.png\" width=700px>\n",
    "\n",
    "In practice, the ReLU function is used almost exclusively as the activation function for hidden layers."
   ]
  },
  {
   "cell_type": "markdown",
   "metadata": {},
   "source": [
    "### Your Turn to Build a Network\n",
    "\n",
    "<img src=\"assets/mlp_mnist.png\" width=600px>\n",
    "\n",
    "> **Exercise:** Create a network with 784 input units, a hidden layer with 128 units and a ReLU activation, then a hidden layer with 64 units and a ReLU activation, and finally an output layer with a softmax activation as shown above. You can use a ReLU activation with the `nn.ReLU` module or `F.relu` function.\n",
    "\n",
    "It's good practice to name your layers by their type of network, for instance 'fc' to represent a fully-connected layer. As you code your solution, use `fc1`, `fc2`, and `fc3` as your layer names."
   ]
  },
  {
   "cell_type": "code",
   "execution_count": null,
   "metadata": {
    "scrolled": true
   },
   "outputs": [],
   "source": [
    "## Your solution here\n"
   ]
  },
  {
   "cell_type": "markdown",
   "metadata": {},
   "source": [
    "### Initializing weights and biases\n",
    "\n",
    "The weights and such are automatically initialized for you, but it's possible to customize how they are initialized. The weights and biases are tensors attached to the layer you defined, you can get them with `model.fc1.weight` for instance."
   ]
  },
  {
   "cell_type": "code",
   "execution_count": null,
   "metadata": {},
   "outputs": [],
   "source": [
    "print(model.fc1.weight)\n",
    "print(model.fc1.bias)"
   ]
  },
  {
   "cell_type": "markdown",
   "metadata": {},
   "source": [
    "For custom initialization, we want to modify these tensors in place. These are actually autograd *Variables*, so we need to get back the actual tensors with `model.fc1.weight.data`. Once we have the tensors, we can fill them with zeros (for biases) or random normal values."
   ]
  },
  {
   "cell_type": "code",
   "execution_count": null,
   "metadata": {},
   "outputs": [],
   "source": [
    "# Set biases to all zeros\n",
    "model.fc1.bias.data.fill_(0)"
   ]
  },
  {
   "cell_type": "code",
   "execution_count": null,
   "metadata": {},
   "outputs": [],
   "source": [
    "# sample from random normal with standard dev = 0.01\n",
    "model.fc1.weight.data.normal_(std=0.01)"
   ]
  },
  {
   "cell_type": "markdown",
   "metadata": {},
   "source": [
    "### Forward pass\n",
    "\n",
    "Now that we have a network, let's see what happens when we pass in an image."
   ]
  },
  {
   "cell_type": "code",
   "execution_count": null,
   "metadata": {},
   "outputs": [],
   "source": [
    "# Grab some data \n",
    "dataiter = iter(trainloader)\n",
    "images, labels = dataiter.next()\n",
    "\n",
    "# Resize images into a 1D vector, new shape is (batch size, color channels, image pixels) \n",
    "images.resize_(64, 1, 784)\n",
    "# or images.resize_(images.shape[0], 1, 784) to automatically get batch size\n",
    "\n",
    "# Forward pass through the network\n",
    "img_idx = 0\n",
    "ps = model.forward(images[img_idx,:])\n",
    "\n",
    "img = images[img_idx]\n",
    "helper.view_classify(img.view(1, 28, 28), ps)"
   ]
  },
  {
   "cell_type": "markdown",
   "metadata": {},
   "source": [
    "As you can see above, our network has basically no idea what this digit is. It's because we haven't trained it yet, all the weights are random!\n",
    "\n",
    "### Using `nn.Sequential`\n",
    "\n",
    "PyTorch provides a convenient way to build networks like this where a tensor is passed sequentially through operations, `nn.Sequential` ([documentation](https://pytorch.org/docs/master/nn.html#torch.nn.Sequential)). Using this to build the equivalent network:"
   ]
  },
  {
   "cell_type": "code",
   "execution_count": null,
   "metadata": {},
   "outputs": [],
   "source": [
    "# Hyperparameters for our network\n",
    "input_size = 784\n",
    "hidden_sizes = [128, 64]\n",
    "output_size = 10\n",
    "\n",
    "# Build a feed-forward network\n",
    "model = nn.Sequential(nn.Linear(input_size, hidden_sizes[0]),\n",
    "                      nn.ReLU(),\n",
    "                      nn.Linear(hidden_sizes[0], hidden_sizes[1]),\n",
    "                      nn.ReLU(),\n",
    "                      nn.Linear(hidden_sizes[1], output_size),\n",
    "                      nn.Softmax(dim=1))\n",
    "print(model)\n",
    "\n",
    "# Forward pass through the network and display output\n",
    "images, labels = next(iter(trainloader))\n",
    "images.resize_(images.shape[0], 1, 784)\n",
    "ps = model.forward(images[0,:])\n",
    "helper.view_classify(images[0].view(1, 28, 28), ps)"
   ]
  },
  {
   "cell_type": "markdown",
   "metadata": {},
   "source": [
    "Here our model is the same as before: 784 input units, a hidden layer with 128 units, ReLU activation, 64 unit hidden layer, another ReLU, then the output layer with 10 units, and the softmax output.\n",
    "\n",
    "The operations are available by passing in the appropriate index. For example, if you want to get first Linear operation and look at the weights, you'd use `model[0]`."
   ]
  },
  {
   "cell_type": "code",
   "execution_count": null,
   "metadata": {},
   "outputs": [],
   "source": [
    "print(model[0])\n",
    "model[0].weight"
   ]
  },
  {
   "cell_type": "markdown",
   "metadata": {},
   "source": [
    "You can also pass in an `OrderedDict` to name the individual layers and operations, instead of using incremental integers. Note that dictionary keys must be unique, so _each operation must have a different name_."
   ]
  },
  {
   "cell_type": "code",
   "execution_count": null,
   "metadata": {},
   "outputs": [],
   "source": [
    "from collections import OrderedDict\n",
    "model = nn.Sequential(OrderedDict([\n",
    "                      ('fc1', nn.Linear(input_size, hidden_sizes[0])),\n",
    "                      ('relu1', nn.ReLU()),\n",
    "                      ('fc2', nn.Linear(hidden_sizes[0], hidden_sizes[1])),\n",
    "                      ('relu2', nn.ReLU()),\n",
    "                      ('output', nn.Linear(hidden_sizes[1], output_size)),\n",
    "                      ('softmax', nn.Softmax(dim=1))]))\n",
    "model"
   ]
  },
  {
   "cell_type": "markdown",
   "metadata": {},
   "source": [
    "Now you can access layers either by integer or the name"
   ]
  },
  {
   "cell_type": "code",
   "execution_count": null,
   "metadata": {},
   "outputs": [],
   "source": [
    "print(model[0])\n",
    "print(model.fc1)"
   ]
  },
  {
   "cell_type": "markdown",
   "metadata": {},
   "source": [
    "In the next notebook, we'll see how we can train a neural network to accuractly predict the numbers appearing in the MNIST images."
   ]
  }
 ],
 "metadata": {
  "kernelspec": {
   "display_name": "Python 3",
   "language": "python",
   "name": "python3"
  },
  "language_info": {
   "codemirror_mode": {
    "name": "ipython",
    "version": 3
   },
   "file_extension": ".py",
   "mimetype": "text/x-python",
   "name": "python",
   "nbconvert_exporter": "python",
   "pygments_lexer": "ipython3",
   "version": "3.7.3"
  }
 },
 "nbformat": 4,
 "nbformat_minor": 2
}
