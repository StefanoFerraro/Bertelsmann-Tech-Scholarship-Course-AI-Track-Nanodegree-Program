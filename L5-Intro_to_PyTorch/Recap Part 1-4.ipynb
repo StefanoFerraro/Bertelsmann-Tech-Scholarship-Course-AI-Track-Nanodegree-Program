{
 "cells": [
  {
   "cell_type": "markdown",
   "metadata": {},
   "source": [
    "# Recap for Part 1 to Part 4 \n",
    "\n",
    "The following will be divided in different cores, each core will present a main section in a Machine Learning algorithm."
   ]
  },
  {
   "cell_type": "markdown",
   "metadata": {},
   "source": [
    "## IMPORT Section\n",
    "\n",
    "`import torch` import the Pytorch distribution.\n",
    "\n",
    "`import torch import nn` is a class that halp us implementing a NN, the job could be done without it (it's easier). \n",
    "\n",
    "`import torch.nn.functional as F` This module contains all the functions in the torch.nn library. \n",
    "As well as a wide range of loss and activation functions, you’ll also find here some convenient functions for creating neural nets, such as pooling functions.\n",
    "\n",
    "`from torchvision import datasets, transforms` A Dataset can be anything that has a __len__ function (called by Python’s standard len function) and a __getitem__ function as a way of indexing into it. Transforms is a set of tools useful for prepare the images. Images needs a pre-process, in order to make give relevant data to the model we want to train.\n",
    "\n",
    "`from IPython.core.debugger import set_trace` Useful tool for debugging. Main commands are: `next` and `exit`. Alternative is to use a Mathemathical Python GUI like Spyder.\n"
   ]
  },
  {
   "cell_type": "code",
   "execution_count": 19,
   "metadata": {},
   "outputs": [],
   "source": [
    "import torch # Pytorch distribution\n",
    "from torch import nn # Pytorch class useful for implementing a NN\n",
    "import torch.nn.functional as F # Pytorch activation func + useful functions\n",
    "from torchvision import datasets, transforms # Torchvision classes for dataset import and transfrom\n",
    "from IPython.core.debugger import set_trace # Python Debugger\n",
    "\n",
    "import helper # Custom library for propability plot"
   ]
  },
  {
   "cell_type": "markdown",
   "metadata": {},
   "source": [
    "## DATA IMPORT Section\n",
    "\n",
    "Data can be created randomly or extracted from an available dataset. Let's focus on the second option. With `transforms.Compose` it is defined the want to process the data that is imported.\n",
    "\n",
    "`datasets.MNIST` is a dataset of numbers available online, with this class we download the dataset into '~/.pytorch/MNIST_data/' (if already not available); if train is true it takes the date from 'training.pt', if false from 'test.pt'. Finally transform takes in an PIL image and returns a transformed version, based on the parameters configured in `transforms.Compose`."
   ]
  },
  {
   "cell_type": "code",
   "execution_count": 53,
   "metadata": {},
   "outputs": [],
   "source": [
    "transform = transforms.Compose([transforms.ToTensor(),\n",
    "                              transforms.Normalize((0.5,), (0.5,)),\n",
    "                              ])\n",
    "\n",
    "# Download and load the training data\n",
    "trainset = datasets.MNIST('~/.pytorch/MNIST_data/', download=True, train=True, transform=transform)\n",
    "trainloader = torch.utils.data.DataLoader(trainset, batch_size=64, shuffle=True)\n",
    "\n",
    "# Download and load the training data\n",
    "testset = datasets.MNIST('~/.pytorch/MNIST_data/', download=True, train=False, transform=transform)\n",
    "testloader = torch.utils.data.DataLoader(trainset, batch_size=64, shuffle=True)"
   ]
  },
  {
   "cell_type": "markdown",
   "metadata": {},
   "source": [
    "## MODEL Section\n",
    "\n",
    "Definition of the model can be made in different ways, using the `nn` module, or with a class definition. When generating a new model we will have weights and biases automatically generated for us"
   ]
  },
  {
   "cell_type": "code",
   "execution_count": 54,
   "metadata": {},
   "outputs": [
    {
     "name": "stdout",
     "output_type": "stream",
     "text": [
      "Sequential(\n",
      "  (0): Linear(in_features=784, out_features=128, bias=True)\n",
      "  (1): ReLU()\n",
      "  (2): Linear(in_features=128, out_features=10, bias=True)\n",
      "  (3): Softmax(dim=1)\n",
      ")\n",
      "Parameter containing:\n",
      "tensor([[ 0.0216, -0.0223,  0.0028,  ..., -0.0052,  0.0161, -0.0214],\n",
      "        [ 0.0336,  0.0073,  0.0250,  ...,  0.0345, -0.0170,  0.0033],\n",
      "        [-0.0064, -0.0089,  0.0184,  ..., -0.0313,  0.0208, -0.0031],\n",
      "        ...,\n",
      "        [-0.0136,  0.0098,  0.0186,  ...,  0.0355, -0.0075, -0.0257],\n",
      "        [-0.0165,  0.0209, -0.0354,  ..., -0.0282,  0.0046,  0.0289],\n",
      "        [-0.0149,  0.0211, -0.0073,  ..., -0.0036,  0.0200, -0.0128]],\n",
      "       requires_grad=True)\n",
      "Network(\n",
      "  (fc1): Linear(in_features=784, out_features=128, bias=True)\n",
      "  (fc2): Linear(in_features=128, out_features=10, bias=True)\n",
      ")\n",
      "Parameter containing:\n",
      "tensor([[ 0.0091,  0.0018,  0.0003,  ..., -0.0215,  0.0028, -0.0102],\n",
      "        [ 0.0352,  0.0145, -0.0129,  ..., -0.0170,  0.0132, -0.0171],\n",
      "        [ 0.0257, -0.0065,  0.0189,  ...,  0.0106,  0.0278,  0.0348],\n",
      "        ...,\n",
      "        [ 0.0046, -0.0308, -0.0169,  ...,  0.0270,  0.0176,  0.0245],\n",
      "        [-0.0171, -0.0052, -0.0105,  ..., -0.0250, -0.0164,  0.0284],\n",
      "        [-0.0008, -0.0050,  0.0191,  ..., -0.0290,  0.0172, -0.0161]],\n",
      "       requires_grad=True)\n"
     ]
    }
   ],
   "source": [
    "## nn model\n",
    "model_nn = nn.Sequential(nn.Linear(784,128),\n",
    "                      nn.ReLU(),\n",
    "                      nn.Linear(128,10),\n",
    "                      nn.Softmax(dim=1))\n",
    "\n",
    "print(model_nn)\n",
    "print(model_nn[0].weight)\n",
    "\n",
    "## Class defined model\n",
    "class Network(nn.Module):\n",
    "    def __init__(self):\n",
    "        super().__init__()\n",
    "        \n",
    "        # Inputs to hidden layer linear transformation\n",
    "        self.fc1 = nn.Linear(784, 128)\n",
    "        # Output layer, 10 units - one for each digit\n",
    "        self.fc2 = nn.Linear(128, 10)\n",
    "        \n",
    "    def forward(self, x):\n",
    "        # Hidden layer with sigmoid activation\n",
    "        x = F.relu(self.fc1(x))\n",
    "\n",
    "        x = F.softmax(self.fc2(x), dim=1) \n",
    "        \n",
    "        return x\n",
    "\n",
    "model_class = Network()\n",
    "\n",
    "print(model_class)\n",
    "print(model_class.fc1.weight)\n"
   ]
  },
  {
   "cell_type": "markdown",
   "metadata": {},
   "source": [
    "## FORWARD PROPAGATION Section\n",
    "\n",
    "In order to create an algorithm, we need first to propagate forward the inputs. Then with the backward propagation each weights will be updated.\n",
    "\n",
    "`trainloader` becomes an `iter()` element, useful for the iteration of the algorithm.\n",
    "The images are resized linearly in order to be passed into the model.\n",
    "\n",
    "Finally the forward process is called for both models."
   ]
  },
  {
   "cell_type": "code",
   "execution_count": 55,
   "metadata": {},
   "outputs": [
    {
     "data": {
      "image/png": "[encoded data removed]",
      "text/plain": [
       "<Figure size 432x648 with 2 Axes>"
      ]
     },
     "metadata": {
      "needs_background": "light"
     },
     "output_type": "display_data"
    },
    {
     "data": {
      "image/png": "[encoded data removed]",
      "text/plain": [
       "<Figure size 432x648 with 2 Axes>"
      ]
     },
     "metadata": {
      "needs_background": "light"
     },
     "output_type": "display_data"
    }
   ],
   "source": [
    "# Grab some data \n",
    "images, labels  = next(iter(trainloader))\n",
    "\n",
    "# Resize images into a 1D vector, new shape is (batch size, color channels, image pixels) \n",
    "images.resize_(64, 1, 784)\n",
    "# or images.resize_(images.shape[0], 1, 784) to automatically get batch size\n",
    "\n",
    "img_idx = 0\n",
    "\n",
    "# Forward pass through the network with the class based model\n",
    "ps = model_class.forward(images[img_idx,:])\n",
    "helper.view_classify(images[img_idx].view(1, 28, 28), ps)\n",
    "\n",
    "# Forward pass through the network with the nn model\n",
    "ps = model_nn.forward(images[img_idx,:])\n",
    "helper.view_classify(images[img_idx].view(1, 28, 28), ps)"
   ]
  },
  {
   "cell_type": "markdown",
   "metadata": {},
   "source": [
    "## LOSS Section\n",
    "\n",
    "In order to evaluate our model we need a metric. An error function is needed, the most common are: Cross-Entropy, Squared Error, Log Likelihood Loss."
   ]
  },
  {
   "cell_type": "code",
   "execution_count": 56,
   "metadata": {},
   "outputs": [],
   "source": [
    "criterion = nn.CrossEntropyLoss()"
   ]
  },
  {
   "cell_type": "markdown",
   "metadata": {},
   "source": [
    "## BACK PROPAGATION Section\n",
    "\n",
    "As said previously now it is time to update our weights and biases. In order to do that we need to compute all the partial derivatives along the network. Thanks to Pytorch this process is really simple, each weight/bias in general each module of the network, has a parameter called `requires_grad` if it is marked as true, every time an operation is computed, the gradient of the element will be computed. These means that after computing the backward process for the first time the first gradient will be available.\n",
    "\n",
    "<img src='assets/backprop_diagram.png' width=550px>\n",
    "\n",
    "The loss needs to be computed after the forward process, this will happen using the criterion specified in advance. The loss function will be used then for the backpropagation process. After the sequence is completed we will have the gradient updated."
   ]
  },
  {
   "cell_type": "code",
   "execution_count": 57,
   "metadata": {},
   "outputs": [
    {
     "name": "stdout",
     "output_type": "stream",
     "text": [
      "None\n",
      "tensor([[ 0.0002,  0.0002,  0.0002,  ...,  0.0002,  0.0002,  0.0002],\n",
      "        [ 0.0001,  0.0001,  0.0001,  ...,  0.0001,  0.0001,  0.0001],\n",
      "        [-0.0006, -0.0006, -0.0006,  ..., -0.0006, -0.0006, -0.0006],\n",
      "        ...,\n",
      "        [ 0.0001,  0.0001,  0.0001,  ...,  0.0001,  0.0001,  0.0001],\n",
      "        [-0.0007, -0.0007, -0.0007,  ..., -0.0007, -0.0007, -0.0007],\n",
      "        [-0.0004, -0.0004, -0.0004,  ..., -0.0004, -0.0004, -0.0004]])\n"
     ]
    }
   ],
   "source": [
    "print(model_nn[0].weight.grad)\n",
    "\n",
    "images, labels  = next(iter(trainloader))\n",
    "images.resize_(64, 784)\n",
    "\n",
    "output = model_nn(images)\n",
    "\n",
    "loss = criterion(output, labels)\n",
    "loss.backward()\n",
    "\n",
    "print(model_nn[0].weight.grad)\n"
   ]
  },
  {
   "cell_type": "markdown",
   "metadata": {},
   "source": [
    "## OPTIMIZER Section\n",
    "\n",
    "Last step of the algorithm will be the upload of weights and biases, from the torch we recall the `optim` package. This function will take care of the update of weights and biases. "
   ]
  },
  {
   "cell_type": "code",
   "execution_count": 58,
   "metadata": {},
   "outputs": [],
   "source": [
    "optimizer = torch.optim.SGD(model_nn.parameters(), lr=0.01)\n",
    "\n",
    "optimizer.step()\n"
   ]
  },
  {
   "cell_type": "markdown",
   "metadata": {},
   "source": [
    "## Final Algorithm + Testing\n",
    "\n",
    "Now we merge all together! All the elements will be put inside a for loop, that will run for a predetermined epochs.\n",
    "\n",
    "A test session is added to the end, in order to test the model efficiency\n",
    "\n"
   ]
  },
  {
   "cell_type": "code",
   "execution_count": 60,
   "metadata": {},
   "outputs": [
    {
     "name": "stdout",
     "output_type": "stream",
     "text": [
      "Training loss: 1.7303047014960349\n",
      "Training loss: 1.7058943219022202\n",
      "Training loss: 1.676589637804133\n",
      "Training loss: 1.6661708700631472\n",
      "Training loss: 1.6598522200513242\n"
     ]
    }
   ],
   "source": [
    "epochs = 5\n",
    "\n",
    "for i in range(epochs):\n",
    "    \n",
    "    current_loss = 0\n",
    "    \n",
    "    for images,labels in trainloader:\n",
    "        # set_trace()\n",
    "        \n",
    "        optimizer.zero_grad()\n",
    "\n",
    "        images = images.view(images.shape[0], -1)\n",
    "\n",
    "        output = model_nn(images)\n",
    "\n",
    "        loss = criterion(output, labels)\n",
    "\n",
    "        loss.backward()\n",
    "\n",
    "        optimizer.step()\n",
    "\n",
    "        current_loss += loss.item()\n",
    "    \n",
    "    print(f\"Training loss: {current_loss/len(trainloader)}\")\n"
   ]
  },
  {
   "cell_type": "code",
   "execution_count": 70,
   "metadata": {},
   "outputs": [
    {
     "data": {
      "image/png": "[encoded data removed]",
      "text/plain": [
       "<Figure size 432x648 with 2 Axes>"
      ]
     },
     "metadata": {
      "needs_background": "light"
     },
     "output_type": "display_data"
    }
   ],
   "source": [
    "dataiter = iter(testloader)\n",
    "images, labels = dataiter.next()\n",
    "img = images[0]\n",
    "# Convert 2D image to 1D vector\n",
    "img = img.resize_(1, 784)\n",
    "\n",
    "with torch.no_grad():\n",
    "    logit = model_nn(img)\n",
    "    \n",
    "helper.view_classify(img.resize_(1, 28, 28), ps)"
   ]
  },
  {
   "cell_type": "code",
   "execution_count": null,
   "metadata": {},
   "outputs": [],
   "source": []
  }
 ],
 "metadata": {
  "kernelspec": {
   "display_name": "Python 3",
   "language": "python",
   "name": "python3"
  },
  "language_info": {
   "codemirror_mode": {
    "name": "ipython",
    "version": 3
   },
   "file_extension": ".py",
   "mimetype": "text/x-python",
   "name": "python",
   "nbconvert_exporter": "python",
   "pygments_lexer": "ipython3",
   "version": "3.7.5"
  }
 },
 "nbformat": 4,
 "nbformat_minor": 4
}
